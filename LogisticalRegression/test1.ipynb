{
 "cells": [
  {
   "cell_type": "code",
   "execution_count": 1,
   "id": "188a9f61",
   "metadata": {},
   "outputs": [],
   "source": [
    "import pandas as pd\n",
    "import numpy as np\n",
    "from logistical_regression import LogisticalRegression\n",
    "import matplotlib.pyplot as plt"
   ]
  },
  {
   "cell_type": "code",
   "execution_count": 2,
   "id": "00da7553",
   "metadata": {},
   "outputs": [],
   "source": [
    "data = pd.read_csv('banknote_dataset.txt', sep=',')\n",
    "data = data.sample(frac=1)"
   ]
  },
  {
   "cell_type": "code",
   "execution_count": 3,
   "id": "ef2b409d",
   "metadata": {},
   "outputs": [
    {
     "data": {
      "text/html": [
       "<div>\n",
       "<style scoped>\n",
       "    .dataframe tbody tr th:only-of-type {\n",
       "        vertical-align: middle;\n",
       "    }\n",
       "\n",
       "    .dataframe tbody tr th {\n",
       "        vertical-align: top;\n",
       "    }\n",
       "\n",
       "    .dataframe thead th {\n",
       "        text-align: right;\n",
       "    }\n",
       "</style>\n",
       "<table border=\"1\" class=\"dataframe\">\n",
       "  <thead>\n",
       "    <tr style=\"text-align: right;\">\n",
       "      <th></th>\n",
       "      <th>variance</th>\n",
       "      <th>skewness</th>\n",
       "      <th>curtosis</th>\n",
       "      <th>entropy</th>\n",
       "      <th>class</th>\n",
       "    </tr>\n",
       "  </thead>\n",
       "  <tbody>\n",
       "    <tr>\n",
       "      <th>652</th>\n",
       "      <td>4.6439</td>\n",
       "      <td>-3.3729</td>\n",
       "      <td>2.59760</td>\n",
       "      <td>0.55257</td>\n",
       "      <td>0</td>\n",
       "    </tr>\n",
       "    <tr>\n",
       "      <th>899</th>\n",
       "      <td>-1.4446</td>\n",
       "      <td>2.1438</td>\n",
       "      <td>-0.47241</td>\n",
       "      <td>-1.66770</td>\n",
       "      <td>1</td>\n",
       "    </tr>\n",
       "    <tr>\n",
       "      <th>1309</th>\n",
       "      <td>-4.2887</td>\n",
       "      <td>-7.8633</td>\n",
       "      <td>11.83870</td>\n",
       "      <td>-1.89780</td>\n",
       "      <td>1</td>\n",
       "    </tr>\n",
       "    <tr>\n",
       "      <th>1206</th>\n",
       "      <td>-2.4349</td>\n",
       "      <td>-9.2497</td>\n",
       "      <td>8.99220</td>\n",
       "      <td>-0.50001</td>\n",
       "      <td>1</td>\n",
       "    </tr>\n",
       "    <tr>\n",
       "      <th>1238</th>\n",
       "      <td>-1.0941</td>\n",
       "      <td>2.3072</td>\n",
       "      <td>-2.52370</td>\n",
       "      <td>-1.44530</td>\n",
       "      <td>1</td>\n",
       "    </tr>\n",
       "  </tbody>\n",
       "</table>\n",
       "</div>"
      ],
      "text/plain": [
       "      variance  skewness  curtosis  entropy  class\n",
       "652     4.6439   -3.3729   2.59760  0.55257      0\n",
       "899    -1.4446    2.1438  -0.47241 -1.66770      1\n",
       "1309   -4.2887   -7.8633  11.83870 -1.89780      1\n",
       "1206   -2.4349   -9.2497   8.99220 -0.50001      1\n",
       "1238   -1.0941    2.3072  -2.52370 -1.44530      1"
      ]
     },
     "execution_count": 3,
     "metadata": {},
     "output_type": "execute_result"
    }
   ],
   "source": [
    "data.head()"
   ]
  },
  {
   "cell_type": "code",
   "execution_count": 4,
   "id": "7b506fee",
   "metadata": {},
   "outputs": [],
   "source": [
    "data_x = data.drop(['class'], axis=1).values\n",
    "data_y = data['class'].values\n",
    "data_x_train = data_x[:int(len(data_x) * 4 / 5)]\n",
    "data_y_train = data_y[:int(len(data_y) * 4 / 5)]\n",
    "data_x_test = data_x[int(len(data_x) * 4 / 5):]\n",
    "data_y_test = data_y[int(len(data_y) * 4 / 5):]"
   ]
  },
  {
   "cell_type": "code",
   "execution_count": 5,
   "id": "a06dd07b",
   "metadata": {},
   "outputs": [],
   "source": [
    "history_test_1 = []\n",
    "history_test_2 = []\n",
    "history_test_3 = []\n",
    "for epoch in range(1, 100):\n",
    "    model = LogisticalRegression()\n",
    "    model.fit(data_x_train, data_y_train, epochs=epoch, lr=0.001)\n",
    "    history_test_1.append(model.score(data_x_test, data_y_test)['f1'])\n",
    "    model = LogisticalRegression()\n",
    "    model.fit(data_x_train, data_y_train, epochs=epoch, lr=0.0001)\n",
    "    history_test_2.append(model.score(data_x_test, data_y_test)['f1'])\n",
    "    model = LogisticalRegression()\n",
    "    model.fit(data_x_train, data_y_train, epochs=epoch, lr=0.00001)\n",
    "    history_test_3.append(model.score(data_x_test, data_y_test)['f1'])"
   ]
  },
  {
   "cell_type": "code",
   "execution_count": 6,
   "id": "545917ab",
   "metadata": {},
   "outputs": [
    {
     "data": {
      "image/png": "[encoded data removed]",
      "text/plain": [
       "<Figure size 432x288 with 1 Axes>"
      ]
     },
     "metadata": {
      "needs_background": "light"
     },
     "output_type": "display_data"
    }
   ],
   "source": [
    "plt.plot(range(1, 100), history_test_1, c='red', label='lr = 0.001')\n",
    "plt.plot(range(1, 100), history_test_2, c = 'purple', label='lr = 0.0001')\n",
    "plt.plot(range(1, 100), history_test_3, 'blue', label='lr = 0.00001')\n",
    "plt.legend()\n",
    "plt.show()"
   ]
  },
  {
   "cell_type": "code",
   "execution_count": null,
   "id": "40fb7d81",
   "metadata": {},
   "outputs": [],
   "source": []
  }
 ],
 "metadata": {
  "kernelspec": {
   "display_name": "Python 3",
   "language": "python",
   "name": "python3"
  },
  "language_info": {
   "codemirror_mode": {
    "name": "ipython",
    "version": 3
   },
   "file_extension": ".py",
   "mimetype": "text/x-python",
   "name": "python",
   "nbconvert_exporter": "python",
   "pygments_lexer": "ipython3",
   "version": "3.8.8"
  }
 },
 "nbformat": 4,
 "nbformat_minor": 5
}
