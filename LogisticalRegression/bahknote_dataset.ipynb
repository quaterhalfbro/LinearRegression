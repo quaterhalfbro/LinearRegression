{
 "cells": [
  {
   "cell_type": "code",
   "execution_count": 21,
   "id": "188a9f61",
   "metadata": {},
   "outputs": [],
   "source": [
    "import pandas as pd\n",
    "import numpy as np\n",
    "from LogisticalRegression import LogisticalRegression\n",
    "import matplotlib.pyplot as plt"
   ]
  },
  {
   "cell_type": "code",
   "execution_count": 10,
   "id": "00da7553",
   "metadata": {},
   "outputs": [],
   "source": [
    "data = pd.read_csv('data_banknote_authentication.txt', sep=',')\n",
    "data = data.sample(frac=1)"
   ]
  },
  {
   "cell_type": "code",
   "execution_count": 11,
   "id": "ef2b409d",
   "metadata": {},
   "outputs": [
    {
     "data": {
      "text/html": [
       "<div>\n",
       "<style scoped>\n",
       "    .dataframe tbody tr th:only-of-type {\n",
       "        vertical-align: middle;\n",
       "    }\n",
       "\n",
       "    .dataframe tbody tr th {\n",
       "        vertical-align: top;\n",
       "    }\n",
       "\n",
       "    .dataframe thead th {\n",
       "        text-align: right;\n",
       "    }\n",
       "</style>\n",
       "<table border=\"1\" class=\"dataframe\">\n",
       "  <thead>\n",
       "    <tr style=\"text-align: right;\">\n",
       "      <th></th>\n",
       "      <th>variance</th>\n",
       "      <th>skewness</th>\n",
       "      <th>curtosis</th>\n",
       "      <th>entropy</th>\n",
       "      <th>class</th>\n",
       "    </tr>\n",
       "  </thead>\n",
       "  <tbody>\n",
       "    <tr>\n",
       "      <th>427</th>\n",
       "      <td>-1.3000</td>\n",
       "      <td>10.26780</td>\n",
       "      <td>-2.953000</td>\n",
       "      <td>-5.86380</td>\n",
       "      <td>0</td>\n",
       "    </tr>\n",
       "    <tr>\n",
       "      <th>1340</th>\n",
       "      <td>-4.1479</td>\n",
       "      <td>7.12250</td>\n",
       "      <td>-0.083404</td>\n",
       "      <td>-6.41720</td>\n",
       "      <td>1</td>\n",
       "    </tr>\n",
       "    <tr>\n",
       "      <th>25</th>\n",
       "      <td>0.7057</td>\n",
       "      <td>-5.49810</td>\n",
       "      <td>8.336800</td>\n",
       "      <td>-2.87150</td>\n",
       "      <td>0</td>\n",
       "    </tr>\n",
       "    <tr>\n",
       "      <th>536</th>\n",
       "      <td>2.7659</td>\n",
       "      <td>0.66216</td>\n",
       "      <td>4.149400</td>\n",
       "      <td>-0.28406</td>\n",
       "      <td>0</td>\n",
       "    </tr>\n",
       "    <tr>\n",
       "      <th>639</th>\n",
       "      <td>3.8846</td>\n",
       "      <td>-3.03360</td>\n",
       "      <td>2.533400</td>\n",
       "      <td>0.20214</td>\n",
       "      <td>0</td>\n",
       "    </tr>\n",
       "  </tbody>\n",
       "</table>\n",
       "</div>"
      ],
      "text/plain": [
       "      variance  skewness  curtosis  entropy  class\n",
       "427    -1.3000  10.26780 -2.953000 -5.86380      0\n",
       "1340   -4.1479   7.12250 -0.083404 -6.41720      1\n",
       "25      0.7057  -5.49810  8.336800 -2.87150      0\n",
       "536     2.7659   0.66216  4.149400 -0.28406      0\n",
       "639     3.8846  -3.03360  2.533400  0.20214      0"
      ]
     },
     "execution_count": 11,
     "metadata": {},
     "output_type": "execute_result"
    }
   ],
   "source": [
    "data.head()"
   ]
  },
  {
   "cell_type": "code",
   "execution_count": 18,
   "id": "7b506fee",
   "metadata": {},
   "outputs": [],
   "source": [
    "data_x = data.drop(['class'], axis=1).values\n",
    "data_y = data['class'].values\n",
    "data_x_train = data_x[:int(len(data_x) * 4 / 5)]\n",
    "data_y_train = data_y[:int(len(data_y) * 4 / 5)]\n",
    "data_x_test = data_x[int(len(data_x) * 4 / 5):]\n",
    "data_y_test = data_y[int(len(data_y) * 4 / 5):]"
   ]
  },
  {
   "cell_type": "code",
   "execution_count": 39,
   "id": "a06dd07b",
   "metadata": {},
   "outputs": [],
   "source": [
    "history_test_1 = []\n",
    "history_test_2 = []\n",
    "history_test_3 = []\n",
    "for epoch in range(1, 100):\n",
    "    model = LogisticalRegression()\n",
    "    model.fit(data_x_train, data_y_train, epochs=epoch, lr=0.001)\n",
    "    history_test_1.append(model.score(data_x_test, data_y_test, metric='f1'))\n",
    "    model = LogisticalRegression()\n",
    "    model.fit(data_x_train, data_y_train, epochs=epoch, lr=0.0001)\n",
    "    history_test_2.append(model.score(data_x_test, data_y_test, metric='f1'))\n",
    "    model = LogisticalRegression()\n",
    "    model.fit(data_x_train, data_y_train, epochs=epoch, lr=0.00001)\n",
    "    history_test_3.append(model.score(data_x_test, data_y_test, metric='f1'))"
   ]
  },
  {
   "cell_type": "code",
   "execution_count": 43,
   "id": "545917ab",
   "metadata": {},
   "outputs": [
    {
     "data": {
      "image/png": "[encoded data removed]",
      "text/plain": [
       "<Figure size 432x288 with 1 Axes>"
      ]
     },
     "metadata": {
      "needs_background": "light"
     },
     "output_type": "display_data"
    }
   ],
   "source": [
    "plt.plot(range(1, 100), history_test_1, c='red', label='lr = 0.001')\n",
    "plt.plot(range(1, 100), history_test_2, c = 'purple', label='lr = 0.0001')\n",
    "plt.plot(range(1, 100), history_test_3, 'blue', label='lr = 0.00001')\n",
    "plt.legend()\n",
    "plt.show()"
   ]
  },
  {
   "cell_type": "code",
   "execution_count": null,
   "id": "40fb7d81",
   "metadata": {},
   "outputs": [],
   "source": []
  }
 ],
 "metadata": {
  "kernelspec": {
   "display_name": "Python 3",
   "language": "python",
   "name": "python3"
  },
  "language_info": {
   "codemirror_mode": {
    "name": "ipython",
    "version": 3
   },
   "file_extension": ".py",
   "mimetype": "text/x-python",
   "name": "python",
   "nbconvert_exporter": "python",
   "pygments_lexer": "ipython3",
   "version": "3.8.8"
  }
 },
 "nbformat": 4,
 "nbformat_minor": 5
}
