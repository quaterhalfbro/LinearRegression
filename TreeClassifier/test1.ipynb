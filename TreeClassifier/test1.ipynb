{
 "cells": [
  {
   "cell_type": "code",
   "execution_count": 1,
   "id": "a4e330f2",
   "metadata": {},
   "outputs": [],
   "source": [
    "import numpy as  np\n",
    "import pandas as pd\n",
    "from sklearn.model_selection import train_test_split\n",
    "from decision_tree_classifier import DecisionTree\n",
    "import matplotlib.pyplot as plt"
   ]
  },
  {
   "cell_type": "code",
   "execution_count": 2,
   "id": "234e87f7",
   "metadata": {},
   "outputs": [],
   "source": [
    "data = pd.read_csv('banknote_dataset.txt')"
   ]
  },
  {
   "cell_type": "code",
   "execution_count": 3,
   "id": "dc9745b7",
   "metadata": {},
   "outputs": [],
   "source": [
    "data_x = data.drop(['class'], axis=1).values\n",
    "data_y = data['class'].values\n",
    "x_train, x_test, y_train, y_test = train_test_split(data_x, data_y, test_size=0.2, random_state=42)"
   ]
  },
  {
   "cell_type": "code",
   "execution_count": 4,
   "id": "7b767ba4",
   "metadata": {},
   "outputs": [],
   "source": [
    "model = DecisionTree()\n",
    "model.fit(x_train, y_train)"
   ]
  },
  {
   "cell_type": "code",
   "execution_count": 5,
   "id": "82684ae9",
   "metadata": {},
   "outputs": [
    {
     "data": {
      "text/plain": [
       "{'acc': 0.9818181818181818,\n",
       " 'r2': 0.9268461374760587,\n",
       " 'precision': 0.968503937007874,\n",
       " 'recall': 0.9919354838709677,\n",
       " 'f1': 0.9800796812749005}"
      ]
     },
     "execution_count": 5,
     "metadata": {},
     "output_type": "execute_result"
    }
   ],
   "source": [
    "model.score(x_test, y_test)"
   ]
  },
  {
   "cell_type": "code",
   "execution_count": 6,
   "id": "e86b5b4c",
   "metadata": {},
   "outputs": [],
   "source": [
    "history_train = []\n",
    "history_test = []\n",
    "for depth in range(1, 30):\n",
    "    model = DecisionTree(max_depth=depth, min_entropy=0)\n",
    "    model.fit(x_train, y_train)\n",
    "    history_test.append(model.score(x_test, y_test))\n",
    "    history_train.append(model.score(x_train, y_train))"
   ]
  },
  {
   "cell_type": "code",
   "execution_count": 7,
   "id": "1b157e24",
   "metadata": {},
   "outputs": [
    {
     "data": {
      "image/png": "[encoded data removed]",
      "text/plain": [
       "<Figure size 432x288 with 1 Axes>"
      ]
     },
     "metadata": {
      "needs_background": "light"
     },
     "output_type": "display_data"
    }
   ],
   "source": [
    "plt.plot(range(1, 30), [i['acc'] for i in history_test], label='test score')\n",
    "plt.plot(range(1, 30), [i['acc'] for i in history_train], c='red', label='train score')\n",
    "plt.ylabel('acc score')\n",
    "plt.xlabel('max depth')\n",
    "plt.legend()\n",
    "plt.show()"
   ]
  },
  {
   "cell_type": "code",
   "execution_count": null,
   "id": "3263ab1f",
   "metadata": {},
   "outputs": [],
   "source": []
  },
  {
   "cell_type": "code",
   "execution_count": null,
   "id": "f04f11fa",
   "metadata": {},
   "outputs": [],
   "source": []
  }
 ],
 "metadata": {
  "kernelspec": {
   "display_name": "Python 3",
   "language": "python",
   "name": "python3"
  },
  "language_info": {
   "codemirror_mode": {
    "name": "ipython",
    "version": 3
   },
   "file_extension": ".py",
   "mimetype": "text/x-python",
   "name": "python",
   "nbconvert_exporter": "python",
   "pygments_lexer": "ipython3",
   "version": "3.8.8"
  }
 },
 "nbformat": 4,
 "nbformat_minor": 5
}
