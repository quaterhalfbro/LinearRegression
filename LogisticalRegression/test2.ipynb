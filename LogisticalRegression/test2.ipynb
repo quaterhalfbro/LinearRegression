{
 "cells": [
  {
   "cell_type": "code",
   "execution_count": 8,
   "id": "385f6b73",
   "metadata": {},
   "outputs": [],
   "source": [
    "import pandas as pd\n",
    "import numpy as np\n",
    "from logistical_regression import LogisticalRegression\n",
    "import matplotlib.pyplot as plt\n",
    "from sklearn.preprocessing import PolynomialFeatures"
   ]
  },
  {
   "cell_type": "code",
   "execution_count": 9,
   "id": "9b9f7c5d",
   "metadata": {},
   "outputs": [],
   "source": [
    "data = pd.read_csv('classification.csv')\n",
    "data = data.sample(frac=1)"
   ]
  },
  {
   "cell_type": "code",
   "execution_count": 10,
   "id": "b6afc754",
   "metadata": {},
   "outputs": [
    {
     "data": {
      "text/html": [
       "<div>\n",
       "<style scoped>\n",
       "    .dataframe tbody tr th:only-of-type {\n",
       "        vertical-align: middle;\n",
       "    }\n",
       "\n",
       "    .dataframe tbody tr th {\n",
       "        vertical-align: top;\n",
       "    }\n",
       "\n",
       "    .dataframe thead th {\n",
       "        text-align: right;\n",
       "    }\n",
       "</style>\n",
       "<table border=\"1\" class=\"dataframe\">\n",
       "  <thead>\n",
       "    <tr style=\"text-align: right;\">\n",
       "      <th></th>\n",
       "      <th>age</th>\n",
       "      <th>interest</th>\n",
       "      <th>success</th>\n",
       "    </tr>\n",
       "  </thead>\n",
       "  <tbody>\n",
       "    <tr>\n",
       "      <th>70</th>\n",
       "      <td>34.802459</td>\n",
       "      <td>33.133850</td>\n",
       "      <td>1.0</td>\n",
       "    </tr>\n",
       "    <tr>\n",
       "      <th>136</th>\n",
       "      <td>15.660874</td>\n",
       "      <td>65.723185</td>\n",
       "      <td>0.0</td>\n",
       "    </tr>\n",
       "    <tr>\n",
       "      <th>277</th>\n",
       "      <td>25.311326</td>\n",
       "      <td>68.952334</td>\n",
       "      <td>1.0</td>\n",
       "    </tr>\n",
       "    <tr>\n",
       "      <th>29</th>\n",
       "      <td>28.506479</td>\n",
       "      <td>69.194277</td>\n",
       "      <td>1.0</td>\n",
       "    </tr>\n",
       "    <tr>\n",
       "      <th>142</th>\n",
       "      <td>20.921923</td>\n",
       "      <td>33.123884</td>\n",
       "      <td>0.0</td>\n",
       "    </tr>\n",
       "  </tbody>\n",
       "</table>\n",
       "</div>"
      ],
      "text/plain": [
       "           age   interest  success\n",
       "70   34.802459  33.133850      1.0\n",
       "136  15.660874  65.723185      0.0\n",
       "277  25.311326  68.952334      1.0\n",
       "29   28.506479  69.194277      1.0\n",
       "142  20.921923  33.123884      0.0"
      ]
     },
     "execution_count": 10,
     "metadata": {},
     "output_type": "execute_result"
    }
   ],
   "source": [
    "data.head()"
   ]
  },
  {
   "cell_type": "code",
   "execution_count": 11,
   "id": "f3b60ff5",
   "metadata": {},
   "outputs": [],
   "source": [
    "data_x = data.drop(['success'], axis=1).values\n",
    "data_y = data['success'].values\n",
    "data_x_train = data_x[:int(len(data_x) * 4 / 5)]\n",
    "data_y_train = data_y[:int(len(data_y) * 4 / 5)]\n",
    "data_x_test = data_x[int(len(data_x) * 4 / 5):]\n",
    "data_y_test = data_y[int(len(data_y) * 4 / 5):]"
   ]
  },
  {
   "cell_type": "code",
   "execution_count": 12,
   "id": "f7ae9bff",
   "metadata": {},
   "outputs": [],
   "source": [
    "model = LogisticalRegression()"
   ]
  },
  {
   "cell_type": "code",
   "execution_count": 13,
   "id": "682d41f7",
   "metadata": {},
   "outputs": [],
   "source": [
    "model.fit(data_x_train, data_y_train, 100000, lr=0.0001)"
   ]
  },
  {
   "cell_type": "code",
   "execution_count": 14,
   "id": "a2d7f012",
   "metadata": {},
   "outputs": [
    {
     "name": "stdout",
     "output_type": "stream",
     "text": [
      "acc:\t0.8666666666666667\n",
      "f1:\t0.8571428571428571\n",
      "precision:\t0.75\n",
      "recall:\t1.0\n"
     ]
    }
   ],
   "source": [
    "print('acc:', model.score(data_x_test, data_y_test)['acc'], sep='\\t')\n",
    "print('f1:', model.score(data_x_test, data_y_test)['f1'], sep='\\t')\n",
    "print('precision:', model.score(data_x_test, data_y_test)['precision'], sep='\\t')\n",
    "print('recall:', model.score(data_x_test, data_y_test)['recall'], sep='\\t')"
   ]
  },
  {
   "cell_type": "code",
   "execution_count": null,
   "id": "e57e821d",
   "metadata": {},
   "outputs": [],
   "source": []
  }
 ],
 "metadata": {
  "kernelspec": {
   "display_name": "Python 3",
   "language": "python",
   "name": "python3"
  },
  "language_info": {
   "codemirror_mode": {
    "name": "ipython",
    "version": 3
   },
   "file_extension": ".py",
   "mimetype": "text/x-python",
   "name": "python",
   "nbconvert_exporter": "python",
   "pygments_lexer": "ipython3",
   "version": "3.8.8"
  }
 },
 "nbformat": 4,
 "nbformat_minor": 5
}
