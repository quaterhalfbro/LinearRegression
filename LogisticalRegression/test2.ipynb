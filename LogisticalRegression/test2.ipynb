{
 "cells": [
  {
   "cell_type": "code",
   "execution_count": 101,
   "id": "385f6b73",
   "metadata": {},
   "outputs": [],
   "source": [
    "import pandas as pd\n",
    "import numpy as np\n",
    "from LogisticalRegression import LogisticalRegression\n",
    "import matplotlib.pyplot as plt\n",
    "from sklearn.preprocessing import PolynomialFeatures"
   ]
  },
  {
   "cell_type": "code",
   "execution_count": 192,
   "id": "9b9f7c5d",
   "metadata": {},
   "outputs": [],
   "source": [
    "data = pd.read_csv('classification.csv')\n",
    "data = data.sample(frac=1)"
   ]
  },
  {
   "cell_type": "code",
   "execution_count": 257,
   "id": "b6afc754",
   "metadata": {},
   "outputs": [
    {
     "data": {
      "text/html": [
       "<div>\n",
       "<style scoped>\n",
       "    .dataframe tbody tr th:only-of-type {\n",
       "        vertical-align: middle;\n",
       "    }\n",
       "\n",
       "    .dataframe tbody tr th {\n",
       "        vertical-align: top;\n",
       "    }\n",
       "\n",
       "    .dataframe thead th {\n",
       "        text-align: right;\n",
       "    }\n",
       "</style>\n",
       "<table border=\"1\" class=\"dataframe\">\n",
       "  <thead>\n",
       "    <tr style=\"text-align: right;\">\n",
       "      <th></th>\n",
       "      <th>age</th>\n",
       "      <th>interest</th>\n",
       "      <th>success</th>\n",
       "    </tr>\n",
       "  </thead>\n",
       "  <tbody>\n",
       "    <tr>\n",
       "      <th>153</th>\n",
       "      <td>30.368808</td>\n",
       "      <td>30.941048</td>\n",
       "      <td>0.0</td>\n",
       "    </tr>\n",
       "    <tr>\n",
       "      <th>205</th>\n",
       "      <td>23.724921</td>\n",
       "      <td>76.055035</td>\n",
       "      <td>1.0</td>\n",
       "    </tr>\n",
       "    <tr>\n",
       "      <th>280</th>\n",
       "      <td>38.110027</td>\n",
       "      <td>64.869657</td>\n",
       "      <td>1.0</td>\n",
       "    </tr>\n",
       "    <tr>\n",
       "      <th>71</th>\n",
       "      <td>22.111094</td>\n",
       "      <td>18.010156</td>\n",
       "      <td>0.0</td>\n",
       "    </tr>\n",
       "    <tr>\n",
       "      <th>160</th>\n",
       "      <td>12.691605</td>\n",
       "      <td>27.305620</td>\n",
       "      <td>0.0</td>\n",
       "    </tr>\n",
       "  </tbody>\n",
       "</table>\n",
       "</div>"
      ],
      "text/plain": [
       "           age   interest  success\n",
       "153  30.368808  30.941048      0.0\n",
       "205  23.724921  76.055035      1.0\n",
       "280  38.110027  64.869657      1.0\n",
       "71   22.111094  18.010156      0.0\n",
       "160  12.691605  27.305620      0.0"
      ]
     },
     "execution_count": 257,
     "metadata": {},
     "output_type": "execute_result"
    }
   ],
   "source": [
    "data.head()"
   ]
  },
  {
   "cell_type": "code",
   "execution_count": 230,
   "id": "f3b60ff5",
   "metadata": {},
   "outputs": [],
   "source": [
    "data_x = data.drop(['success'], axis=1).values\n",
    "data_y = data['success'].values\n",
    "data_x_train = data_x[:int(len(data_x) * 4 / 5)]\n",
    "data_y_train = data_y[:int(len(data_y) * 4 / 5)]\n",
    "data_x_test = data_x[int(len(data_x) * 4 / 5):]\n",
    "data_y_test = data_y[int(len(data_y) * 4 / 5):]"
   ]
  },
  {
   "cell_type": "code",
   "execution_count": 244,
   "id": "f7ae9bff",
   "metadata": {},
   "outputs": [],
   "source": [
    "model = LogisticalRegression()"
   ]
  },
  {
   "cell_type": "code",
   "execution_count": 246,
   "id": "682d41f7",
   "metadata": {},
   "outputs": [],
   "source": [
    "model.fit(data_x_train, data_y_train, 100000, lr=0.0001)"
   ]
  },
  {
   "cell_type": "code",
   "execution_count": 255,
   "id": "a2d7f012",
   "metadata": {},
   "outputs": [
    {
     "name": "stdout",
     "output_type": "stream",
     "text": [
      "acc:\t0.8333333333333334\n",
      "f1:\t0.875\n",
      "precision:\t0.9459459459459459\n",
      "recall:\t0.813953488372093\n"
     ]
    }
   ],
   "source": [
    "print('acc:', model.score(data_x_test, data_y_test, 'acc'), sep='\\t')\n",
    "print('f1:', model.score(data_x_test, data_y_test, 'f1'), sep='\\t')\n",
    "print('precision:', model.score(data_x_test, data_y_test, 'precision'), sep='\\t')\n",
    "print('recall:', model.score(data_x_test, data_y_test, 'recall'), sep='\\t')"
   ]
  },
  {
   "cell_type": "code",
   "execution_count": null,
   "id": "e57e821d",
   "metadata": {},
   "outputs": [],
   "source": []
  }
 ],
 "metadata": {
  "kernelspec": {
   "display_name": "Python 3",
   "language": "python",
   "name": "python3"
  },
  "language_info": {
   "codemirror_mode": {
    "name": "ipython",
    "version": 3
   },
   "file_extension": ".py",
   "mimetype": "text/x-python",
   "name": "python",
   "nbconvert_exporter": "python",
   "pygments_lexer": "ipython3",
   "version": "3.8.8"
  }
 },
 "nbformat": 4,
 "nbformat_minor": 5
}
